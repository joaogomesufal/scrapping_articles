{
 "cells": [
  {
   "cell_type": "code",
   "execution_count": 39,
   "metadata": {
    "scrolled": true
   },
   "outputs": [
    {
     "name": "stdout",
     "output_type": "stream",
     "text": [
      "Requirement already satisfied: beautifulsoup4 in /home/jhonxbatista/.local/lib/python3.5/site-packages (4.7.1)\n",
      "Requirement already satisfied: soupsieve>=1.2 in /home/jhonxbatista/.local/lib/python3.5/site-packages (from beautifulsoup4) (1.8)\n",
      "\u001b[33mYou are using pip version 18.1, however version 19.0.2 is available.\n",
      "You should consider upgrading via the 'pip install --upgrade pip' command.\u001b[0m\n",
      "Requirement already satisfied: urllib3 in /home/jhonxbatista/.local/lib/python3.5/site-packages (1.22)\n",
      "\u001b[33mYou are using pip version 18.1, however version 19.0.2 is available.\n",
      "You should consider upgrading via the 'pip install --upgrade pip' command.\u001b[0m\n"
     ]
    }
   ],
   "source": [
    "#Instalação das Dependencias\n",
    "!pip3 install beautifulsoup4 --user\n",
    "!pip3 install urllib3 --user"
   ]
  },
  {
   "cell_type": "code",
   "execution_count": 19,
   "metadata": {},
   "outputs": [],
   "source": [
    "#Importação das Dependencias \n",
    "import requests\n",
    "from bs4 import BeautifulSoup\n",
    "import wget"
   ]
  },
  {
   "cell_type": "code",
   "execution_count": 49,
   "metadata": {},
   "outputs": [
    {
     "name": "stdout",
     "output_type": "stream",
     "text": [
      "Insert what you serach for: Acessibilidade Web\n",
      "Insert inferior limit for articles: 2015\n",
      "Insert superior limit for articles: 2019\n",
      "Insert quantity pages: 10\n",
      "['https://scholar.google.com.br/scholar?start=00&q=Acessibilidade Web&hl=pt-BR&as_sdt=0,5&as_ylo=2015&as_yhi=2019', 'https://scholar.google.com.br/scholar?start=10&q=Acessibilidade Web&hl=pt-BR&as_sdt=0,5&as_ylo=2015&as_yhi=2019', 'https://scholar.google.com.br/scholar?start=20&q=Acessibilidade Web&hl=pt-BR&as_sdt=0,5&as_ylo=2015&as_yhi=2019', 'https://scholar.google.com.br/scholar?start=30&q=Acessibilidade Web&hl=pt-BR&as_sdt=0,5&as_ylo=2015&as_yhi=2019', 'https://scholar.google.com.br/scholar?start=40&q=Acessibilidade Web&hl=pt-BR&as_sdt=0,5&as_ylo=2015&as_yhi=2019', 'https://scholar.google.com.br/scholar?start=50&q=Acessibilidade Web&hl=pt-BR&as_sdt=0,5&as_ylo=2015&as_yhi=2019', 'https://scholar.google.com.br/scholar?start=60&q=Acessibilidade Web&hl=pt-BR&as_sdt=0,5&as_ylo=2015&as_yhi=2019', 'https://scholar.google.com.br/scholar?start=70&q=Acessibilidade Web&hl=pt-BR&as_sdt=0,5&as_ylo=2015&as_yhi=2019', 'https://scholar.google.com.br/scholar?start=80&q=Acessibilidade Web&hl=pt-BR&as_sdt=0,5&as_ylo=2015&as_yhi=2019', 'https://scholar.google.com.br/scholar?start=90&q=Acessibilidade Web&hl=pt-BR&as_sdt=0,5&as_ylo=2015&as_yhi=2019']\n"
     ]
    }
   ],
   "source": [
    "#Entrada da pesquisa\n",
    "search_text = input('Insert what you serach for: ')\n",
    "inf_limit = input('Insert inferior limit for articles: ')\n",
    "upper_limit = input('Insert superior limit for articles: ')\n",
    "pages_quantity = int(input('Insert quantity pages: '))\n",
    "\n",
    "url_list = []\n",
    "for i in range(0, pages_quantity):\n",
    "    url = \"https://scholar.google.com.br/scholar?start=\" + str(i) + \"0&q=\" + str(search_text) + \"&hl=pt-BR&as_sdt=0,5&as_ylo=\" + str(inf_limit) + \"&as_yhi=\" + str(upper_limit)\n",
    "    url_list.append(url)\n",
    "print(url_list)"
   ]
  },
  {
   "cell_type": "code",
   "execution_count": 51,
   "metadata": {},
   "outputs": [],
   "source": [
    "#Iniciação do BeautifulSoup\n",
    "def getArticlesInList(url_list):\n",
    "    pdf_list_download = []\n",
    "    for url in url_list:\n",
    "        page  = requests.get(url)\n",
    "        if(page.status_code == 200):\n",
    "            print(url + \" >> Requisição Realizada com sucesso!\")\n",
    "        elif(page.status_code == 500):\n",
    "            print(\"Houve um erro interno, aguarde um momento e tente novamente.!\")\n",
    "        else:\n",
    "            print(\"Houve um erro desconhecido\")\n",
    "        soup = BeautifulSoup(page.content, 'html.parser')\n",
    "        list_results = soup.find_all('div', class_='gs_scl')\n",
    "        #gs_or_ggsm\n",
    "        for item_result in list_results :\n",
    "\n",
    "            title = item_result.find(class_=\"gs_rt\").get_text() if not (item_result.find(class_=\"gs_rt\") is None) else False\n",
    "            download_link = item_result.find(class_=\"gs_or_ggsm\")\n",
    "            download_link = download_link.find('a').get('href') if  not (download_link is None) else False\n",
    "            is_pdf = item_result.find(class_=\"gs_ctg2\").get_text() if not (item_result.find(class_=\"gs_ctg2\") is None) else False\n",
    "            is_pdf = True if is_pdf == '[PDF]' else False\n",
    "\n",
    "            if(is_pdf):\n",
    "                print(download_link.find('a').get('href'))\n",
    "                pdf_list_download.append({\n",
    "                    'title': title,\n",
    "                    'link': download_link\n",
    "                })\n",
    "    return pdf_list_download\n",
    "\n"
   ]
  },
  {
   "cell_type": "code",
   "execution_count": 9,
   "metadata": {
    "collapsed": true
   },
   "outputs": [
    {
     "name": "stdout",
     "output_type": "stream",
     "text": [
      "https://scholar.google.com.br/scholar?start=0&q=Acessibilidade Web&hl=pt-BR&as_sdt=0,5&as_ylo=2016&as_yhi=2018 >> Requisição Realizada com sucesso!\n",
      "https://scholar.google.com.br/scholar?start=1&q=Acessibilidade Web&hl=pt-BR&as_sdt=0,5&as_ylo=2016&as_yhi=2018 >> Requisição Realizada com sucesso!\n",
      "https://scholar.google.com.br/scholar?start=2&q=Acessibilidade Web&hl=pt-BR&as_sdt=0,5&as_ylo=2016&as_yhi=2018 >> Requisição Realizada com sucesso!\n",
      "https://scholar.google.com.br/scholar?start=3&q=Acessibilidade Web&hl=pt-BR&as_sdt=0,5&as_ylo=2016&as_yhi=2018 >> Requisição Realizada com sucesso!\n",
      "https://scholar.google.com.br/scholar?start=4&q=Acessibilidade Web&hl=pt-BR&as_sdt=0,5&as_ylo=2016&as_yhi=2018 >> Requisição Realizada com sucesso!\n",
      "[{'link': 'http://www.br-ie.org/pub/index.php/rbie/article/viewFile/7131/5556', 'title': 'GAIA: uma proposta de um guia de recomendações de acessibilidade de interfaces Web com foco em aspectos do Autismo'}, {'link': 'http://www.fatecsaocaetano.edu.br/fascitech/index.php/fascitech/article/download/69/68', 'title': 'Análise sobre o website Facebook do ponto de vista da acessibilidade'}, {'link': 'https://infodesign.emnuvens.com.br/infodesign/article/download/369/280', 'title': 'Acessibilidade em portais de Governo Eletrônico do Poder Judiciário| Accessibility in e-government portals of the Judiciary'}, {'link': 'https://www.redalyc.org/pdf/2750/275050047026.pdf', 'title': '[PDF][PDF] Acessibilidade digital: Uma análise em portais de Instituições Federais de Educação do Brasil'}, {'link': 'http://www.fatecsaocaetano.edu.br/fascitech/index.php/fascitech/article/download/69/68', 'title': 'Análise sobre o website Facebook do ponto de vista da acessibilidade'}, {'link': 'https://infodesign.emnuvens.com.br/infodesign/article/download/369/280', 'title': 'Acessibilidade em portais de Governo Eletrônico do Poder Judiciário| Accessibility in e-government portals of the Judiciary'}, {'link': 'https://www.redalyc.org/pdf/2750/275050047026.pdf', 'title': '[PDF][PDF] Acessibilidade digital: Uma análise em portais de Instituições Federais de Educação do Brasil'}, {'link': 'http://www.fatecsaocaetano.edu.br/fascitech/index.php/fascitech/article/download/69/68', 'title': 'Análise sobre o website Facebook do ponto de vista da acessibilidade'}, {'link': 'https://infodesign.emnuvens.com.br/infodesign/article/download/369/280', 'title': 'Acessibilidade em portais de Governo Eletrônico do Poder Judiciário| Accessibility in e-government portals of the Judiciary'}, {'link': 'https://www.redalyc.org/pdf/2750/275050047026.pdf', 'title': '[PDF][PDF] Acessibilidade digital: Uma análise em portais de Instituições Federais de Educação do Brasil'}, {'link': 'https://editorarealize.com.br/revistas/cintedi/trabalhos/TRABALHO_EV060_MD1_SA2_ID2131_01092016230304.pdf', 'title': '[PDF][PDF] Acessibilidade virtual: Um estudo acerca da acessibilidade, usabilidade e comunicabilidade em portais institucionais federais'}, {'link': 'https://infodesign.emnuvens.com.br/infodesign/article/download/369/280', 'title': 'Acessibilidade em portais de Governo Eletrônico do Poder Judiciário| Accessibility in e-government portals of the Judiciary'}, {'link': 'https://www.redalyc.org/pdf/2750/275050047026.pdf', 'title': '[PDF][PDF] Acessibilidade digital: Uma análise em portais de Instituições Federais de Educação do Brasil'}, {'link': 'https://editorarealize.com.br/revistas/cintedi/trabalhos/TRABALHO_EV060_MD1_SA2_ID2131_01092016230304.pdf', 'title': '[PDF][PDF] Acessibilidade virtual: Um estudo acerca da acessibilidade, usabilidade e comunicabilidade em portais institucionais federais'}, {'link': 'https://infodesign.emnuvens.com.br/infodesign/article/download/369/280', 'title': 'Acessibilidade em portais de Governo Eletrônico do Poder Judiciário| Accessibility in e-government portals of the Judiciary'}, {'link': 'https://www.redalyc.org/pdf/2750/275050047026.pdf', 'title': '[PDF][PDF] Acessibilidade digital: Uma análise em portais de Instituições Federais de Educação do Brasil'}, {'link': 'https://editorarealize.com.br/revistas/cintedi/trabalhos/TRABALHO_EV060_MD1_SA2_ID2131_01092016230304.pdf', 'title': '[PDF][PDF] Acessibilidade virtual: Um estudo acerca da acessibilidade, usabilidade e comunicabilidade em portais institucionais federais'}]\n"
     ]
    }
   ],
   "source": [
    "link_list = getArticlesInList(url_list)\n"
   ]
  },
  {
   "cell_type": "code",
   "execution_count": 44,
   "metadata": {
    "collapsed": true
   },
   "outputs": [
    {
     "name": "stdout",
     "output_type": "stream",
     "text": [
      "Download de: GAIA: uma proposta de um guia de recomendações de acessibilidade de interfaces Web com foco em aspectos do Autismo\n",
      "Download de: Análise sobre o website Facebook do ponto de vista da acessibilidade\n",
      "Download de: Acessibilidade em portais de Governo Eletrônico do Poder Judiciário| Accessibility in e-government portals of the Judiciary\n",
      "Download de: [PDF][PDF] Acessibilidade digital: Uma análise em portais de Instituições Federais de Educação do Brasil\n",
      "Download de: Análise sobre o website Facebook do ponto de vista da acessibilidade\n",
      "Download de: Acessibilidade em portais de Governo Eletrônico do Poder Judiciário| Accessibility in e-government portals of the Judiciary\n",
      "Download de: [PDF][PDF] Acessibilidade digital: Uma análise em portais de Instituições Federais de Educação do Brasil\n",
      "Download de: Análise sobre o website Facebook do ponto de vista da acessibilidade\n",
      "Download de: Acessibilidade em portais de Governo Eletrônico do Poder Judiciário| Accessibility in e-government portals of the Judiciary\n",
      "Download de: [PDF][PDF] Acessibilidade digital: Uma análise em portais de Instituições Federais de Educação do Brasil\n",
      "Download de: [PDF][PDF] Acessibilidade virtual: Um estudo acerca da acessibilidade, usabilidade e comunicabilidade em portais institucionais federais\n",
      "Download de: Acessibilidade em portais de Governo Eletrônico do Poder Judiciário| Accessibility in e-government portals of the Judiciary\n",
      "Download de: [PDF][PDF] Acessibilidade digital: Uma análise em portais de Instituições Federais de Educação do Brasil\n",
      "Download de: [PDF][PDF] Acessibilidade virtual: Um estudo acerca da acessibilidade, usabilidade e comunicabilidade em portais institucionais federais\n",
      "Download de: Acessibilidade em portais de Governo Eletrônico do Poder Judiciário| Accessibility in e-government portals of the Judiciary\n",
      "Download de: [PDF][PDF] Acessibilidade digital: Uma análise em portais de Instituições Federais de Educação do Brasil\n",
      "Download de: [PDF][PDF] Acessibilidade virtual: Um estudo acerca da acessibilidade, usabilidade e comunicabilidade em portais institucionais federais\n"
     ]
    }
   ],
   "source": [
    "#Download do arquivo\n",
    "\n",
    "for link in link_list: \n",
    "    name = str(int(time.time())) + '.pdf'\n",
    "    r = requests.get(link['link'], allow_redirects=True)\n",
    "    open(name, 'wb').write(r.content)\n",
    "    print('Download de: ' + link['title'])"
   ]
  },
  {
   "cell_type": "code",
   "execution_count": null,
   "metadata": {},
   "outputs": [],
   "source": []
  }
 ],
 "metadata": {
  "kernelspec": {
   "display_name": "Python 3",
   "language": "python",
   "name": "python3"
  },
  "language_info": {
   "codemirror_mode": {
    "name": "ipython",
    "version": 3
   },
   "file_extension": ".py",
   "mimetype": "text/x-python",
   "name": "python",
   "nbconvert_exporter": "python",
   "pygments_lexer": "ipython3",
   "version": "3.5.2"
  }
 },
 "nbformat": 4,
 "nbformat_minor": 2
}
